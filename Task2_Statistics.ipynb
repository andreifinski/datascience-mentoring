{
  "nbformat": 4,
  "nbformat_minor": 0,
  "metadata": {
    "colab": {
      "name": "Task2_Statistics.ipynb",
      "provenance": [],
      "collapsed_sections": [],
      "authorship_tag": "ABX9TyOymR0VLd98PcU6JTAfCsiU",
      "include_colab_link": true
    },
    "kernelspec": {
      "name": "python3",
      "display_name": "Python 3"
    },
    "language_info": {
      "name": "python"
    }
  },
  "cells": [
    {
      "cell_type": "markdown",
      "metadata": {
        "id": "view-in-github",
        "colab_type": "text"
      },
      "source": [
        "<a href=\"https://colab.research.google.com/github/andreifinski/datascience-mentoring/blob/main/Task2_Statistics.ipynb\" target=\"_parent\"><img src=\"https://colab.research.google.com/assets/colab-badge.svg\" alt=\"Open In Colab\"/></a>"
      ]
    },
    {
      "cell_type": "markdown",
      "metadata": {
        "id": "4iDoi_tKeiWT"
      },
      "source": [
        "# Homework for statistics module"
      ]
    },
    {
      "cell_type": "markdown",
      "metadata": {
        "id": "rpTApBmReiWU"
      },
      "source": [
        "Rules for code style:\n",
        "* All the code in this notebook\n",
        "* Imports are provided in the head of the notebook\n",
        "* All the cells could be ran in the right order from the top to the bottom\n",
        "* Commentaries are required\n",
        "* All the plots should have: title, axis labels and summaries (if necessary)\n",
        "* Main summaries are provided in cells using markdown **(your analysis of the results and data is very important!!!)**\n",
        "* Try to use functions and classes to reduce duplicated code blocks to minimum\n",
        "\n",
        "Also you can use $\\LaTeX$ to write formulas. F.e. $\\bar{y} = \\frac{1}{n}\\sum_{i=1}^n \\hat{x}_i$ or on a new line:\n",
        "$$\n",
        "    \\bar{y} = \\frac{1}{n}\\sum_{i=1}^n \\hat{x}_i\n",
        "$$\n",
        "To do so, you can write anything between $\\$ \\quad \\$$ (or  $ \\$\\$ \\quad\\$\\$ $)."
      ]
    },
    {
      "cell_type": "markdown",
      "metadata": {
        "id": "WDi2Y6V_eiWU"
      },
      "source": [
        "### Criteria (50 points total):\n",
        "* Task 1 (17 points)\n",
        "\n",
        "    * Requested formulas are provided - 4 points\n",
        "    * All necessary experiments are done - 6 points\n",
        "    * Results are analysed with commentaries - 7 points\n",
        "* Tasks 2.1 и 2.2 (16 points)\n",
        "\n",
        "    * Visualization and/or simple exploratory data analysis are implemented - 2 points\n",
        "    * Hypotheses are tested - 2 points\n",
        "    * Results are analysed with commentaries - 4 points\n",
        "* Task 3 (13 points)\n",
        "\n",
        "    * Visualization and/or simple exploratory data analysis are implemented - 2 points\n",
        "    * Hypotheses are tested - 4 points\n",
        "    * Data was aggregated properly - 2 points\n",
        "    * Results are analysed with commentaries - 5 points\n",
        "* Extra points:\n",
        "\n",
        "    * 4 points in case clear, \"pythonic\" and understandable code style.\n",
        "\n",
        "Good work: 40+ points."
      ]
    },
    {
      "cell_type": "code",
      "metadata": {
        "id": "PElB6m7SeiWV"
      },
      "source": [
        "import pandas as pd\n",
        "import numpy as np\n",
        "import scipy.stats as st\n",
        "import math\n",
        "\n",
        "import matplotlib.pyplot as plt\n",
        "%matplotlib inline\n",
        "\n",
        "import seaborn as sns\n",
        "plt.style.use('bmh')\n",
        "\n",
        "from pylab import rcParams\n",
        "\n",
        "# plots in svg look more precise\n",
        "%config InlineBackend.figure_format = 'svg'"
      ],
      "execution_count": null,
      "outputs": []
    },
    {
      "cell_type": "markdown",
      "metadata": {
        "id": "n1KtvaVFeiWY"
      },
      "source": [
        "# Task 1\n",
        "\n",
        "## Stratification\n",
        "\n",
        "The example:\n",
        "\n",
        "Let's assume, we need to estimate a mean votes count for every election candidate. Suppose there are 3 cities in a country: 1 million factory workers live in city A, 2 million office workers live in city B, and 3 million senior citizens live in city B. We can choose a random sample of 60 votes from the entire population, but there is some chance that the random sample will be poorly balanced between these cities and, therefore, will be biased and of little use (\"average temperature in the hospital\"), causing a significant error in the estimation. Instead, if we choose to use a simple random sample of 10, 20 and 30 votes from cities A, B and C, respectively, we can get a smaller error in the estimate with the same total sample size. This technique is called stratification.\n",
        "\n",
        "\n",
        "### The task\n",
        "\n",
        "Suppose the population is a mixture of 3 normally distributed CBs. In other words, the population can be divided into 3 strata.\n",
        "$$\n",
        "    F(X) = a_1 F(X_1) + a_2 F(X_2) + a_3 F(X_3)\n",
        "$$\n",
        "\n",
        "**Goals:**  \n",
        "\n",
        "1. Derive (for example, in the block below, using Markdown) the formulas for point estimates of the mathematical expectation and variance for the average value of subsamples formed in different ways:\n",
        "- random selection from the entire population;\n",
        "- random selection of strata in proportion to strata volumes;\n",
        "- random selection according to the optimal sub-sampling.\n",
        "\n",
        "2. Calculate point estimates of the mathematical expectation and variance of the mean value for each data sampling method from p.1, provided:\n",
        "* Experiments should be conducted for 3 cases (for every method from p.1 each):\n",
        "     * all strata have the same mat. expectations and variance;\n",
        "     * strata have different mat. expectations, but the same variance;\n",
        "     * strata have different mat. expectations and variance.\n",
        "* For each sampling method plot histogram of General Population data (using matplotlib or seaborn packages);\n",
        "* Plot boxplots for sample mean estimated using each sampling method on a single figure to compare the results. Repeat for each experiment.\n",
        "* You are provided with `GeneralPopulation` class. It already has all necessary methods for sampling and creating general population as a mixture of strata.\n",
        "* Your goal is to write functions to conduct experiments and visualize the results.   \n",
        "* Also provide commentaries as summaries and analysis of results after each visualization.\n"
      ]
    },
    {
      "cell_type": "markdown",
      "metadata": {
        "id": "rWcWGrjEeiWY"
      },
      "source": [
        "## Solution for Task 1"
      ]
    },
    {
      "cell_type": "markdown",
      "metadata": {
        "id": "9VKm24xHeiWZ"
      },
      "source": [
        "### Formulas:"
      ]
    },
    {
      "cell_type": "markdown",
      "metadata": {
        "id": "QFM2aqGJeiWd"
      },
      "source": [
        "#### Stratified sample point estimations:"
      ]
    },
    {
      "cell_type": "markdown",
      "metadata": {
        "id": "zm46uoW2ecKg"
      },
      "source": [
        "`HERE ARE YOUR FORMULAS DERIVED`"
      ]
    },
    {
      "cell_type": "markdown",
      "metadata": {
        "id": "BL8re3pXeiWl"
      },
      "source": [
        "#### Sample volumes if they are sampled proportionally:"
      ]
    },
    {
      "cell_type": "markdown",
      "metadata": {
        "id": "EIo35USfekFu"
      },
      "source": [
        "`HERE ARE YOUR FORMULAS DERIVED`"
      ]
    },
    {
      "cell_type": "markdown",
      "metadata": {
        "id": "hyhPTdMFeiWm"
      },
      "source": [
        "#### Sample volumes if they are optimal sampled (Neyman's method):"
      ]
    },
    {
      "cell_type": "markdown",
      "metadata": {
        "id": "48U_kJglekwb"
      },
      "source": [
        "`HERE ARE YOUR FORMULAS DERIVED`"
      ]
    },
    {
      "cell_type": "markdown",
      "metadata": {
        "id": "1LgIz0EbfC4P"
      },
      "source": [
        "**GeneralPopulation class**  \n",
        "Already has methods for creating general population as a mixture of strata, for generating subsample with random, optimal and stratified techniques:"
      ]
    },
    {
      "cell_type": "code",
      "metadata": {
        "id": "Oph4XwtFR1SP"
      },
      "source": [
        "class GeneralPopulation:\n",
        "\n",
        "  def __init__(self, \n",
        "               means: [float], \n",
        "               stds: [float], \n",
        "               sizes: [int], \n",
        "               random_state: int = 15\n",
        "               ):\n",
        "    \"\"\"\n",
        "    Initializes our General Population and saves the given distributions\n",
        "    \n",
        "    :param means: List of expectations for normal distributions\n",
        "    :param stds: List of standard deviations for normal distributions\n",
        "    :param sizes: How many objects will be in each strata\n",
        "    :param random_state: Parameter fixing randomness. Needed so that when conducting\n",
        "    experiment repeatedly with the same input parameters, the results remained the same\n",
        "    \"\"\"\n",
        "    self.strats = [st.norm(mean, std) for mean, std in zip(means, stds)]\n",
        "    self._sample(sizes)\n",
        "    self.random_state = random_state\n",
        "\n",
        "  def _sample(self, sizes):\n",
        "        \"\"\"Creates a general population sample as a mixture of strata\n",
        "        \n",
        "        :param sizes: List with sample sizes of the corresponding normal distributions\n",
        "        \"\"\"\n",
        "        self.strats_samples = [rv.rvs(size) for rv, size in zip(self.strats, sizes)]\n",
        "        self.general_samples = np.hstack(self.strats_samples)\n",
        "        self.N = self.general_samples.shape[0]\n",
        "        \n",
        "        # number of strata\n",
        "        self.count_strats = len(sizes)\n",
        "        \n",
        "        # ratios for every strata in GP\n",
        "        self.ws = [size/self.N for size in sizes]\n",
        "        \n",
        "        # ME and Std for GP\n",
        "        self.m = np.mean(self.general_samples)\n",
        "        self.sigma = np.std(self.general_samples)\n",
        "        \n",
        "        # ME and std for all strata\n",
        "        self.ms = [np.mean(strat_sample) for strat_sample in self.strats_samples]\n",
        "        self.sigmas = [np.std(strat_sample) for strat_sample in self.strats_samples]\n",
        "\n",
        "  def random_subsampling(self, size):\n",
        "      \"\"\"Creates a random subset of the entire population\n",
        "      \n",
        "      :param sizes: subsample size\n",
        "      \"\"\"\n",
        "      rc = np.random.choice(self.general_samples, size=size) \n",
        "      return rc\n",
        "      \n",
        "  def proportional_subsampling(self, size):\n",
        "      \"\"\"Creates a subsample with the number of elements, proportional shares of strata\n",
        "      \n",
        "      :param sizes: subsample size\n",
        "      \"\"\"\n",
        "      self.strats_size_proport = [int(np.floor(size*w)) for w in self.ws]\n",
        "      \n",
        "      rc = []\n",
        "      for k in range(len(self.strats_size_proport)):\n",
        "          rc.append(np.random.choice(self.strats_samples[k],\n",
        "                                      size=self.strats_size_proport[k]))\n",
        "      \n",
        "      return rc\n",
        "      \n",
        "  def optimal_subsampling(self, size):\n",
        "      \"\"\"Creates a subsample with the optimal number of elements relative to strata\n",
        "      \n",
        "      :param sizes: subsample size\n",
        "      \"\"\"\n",
        "      sum_denom = 0\n",
        "      for k in range(self.count_strats):\n",
        "          sum_denom += self.ws[k] * self.sigmas[k]\n",
        "      \n",
        "      self.strats_size_optimal = [int(np.floor((size*w*sigma)/sum_denom)) for w, sigma in zip(self.ws, self.sigmas)]\n",
        "      if 0 in self.strats_size_optimal:\n",
        "          raise ValueError('Strats size is 0, please change variance of smallest strat!')\n",
        "      \n",
        "      rc = []\n",
        "      for k in range(len(self.strats_size_optimal)):\n",
        "          rc.append(np.random.choice(self.strats_samples[k],\n",
        "                                      size=self.strats_size_optimal[k]))\n",
        "      \n",
        "      return rc   \n",
        "\n",
        "  def run_experiments(self, n_sub, subsampling_method, n_experiments=1000):\n",
        "      \"\"\"Conducts a series of experiments and saves the results\n",
        "      \n",
        "      :param subsampling_method: method for creating a subsample\n",
        "      :param n_experiments: number of experiment starts\n",
        "      \"\"\"\n",
        "      means_s = []\n",
        "      \n",
        "      if(len(self.general_samples)<100):\n",
        "          n_sub = 20\n",
        "      \n",
        "      if(subsampling_method == 'random_subsampling'):\n",
        "          for n in range(n_experiments):\n",
        "              rc = self.random_subsampling(n_sub)\n",
        "              \n",
        "              mean = rc.sum()/len(rc)\n",
        "              means_s.append(mean)\n",
        "              \n",
        "      else:\n",
        "          for n in range(n_experiments):\n",
        "              if(subsampling_method == 'proportional_subsampling'):\n",
        "                  rc = self.proportional_subsampling(n_sub)\n",
        "              elif(subsampling_method == 'optimal_subsampling'):\n",
        "                  rc = self.optimal_subsampling(n_sub)\n",
        "              \n",
        "              strats_mean = []\n",
        "      \n",
        "              for k in range(len(rc)):\n",
        "                  strats_mean.append(sum(rc[k])/len(rc[k]))\n",
        "      \n",
        "              # Mean for a mixture\n",
        "              means_s.append(sum([w_k*mean_k for w_k, mean_k in zip(self.ws, strats_mean)]))\n",
        "              \n",
        "      return means_s"
      ],
      "execution_count": null,
      "outputs": []
    },
    {
      "cell_type": "markdown",
      "metadata": {
        "id": "IX8vSdUHZgEM"
      },
      "source": [
        "Function for histogram plot:"
      ]
    },
    {
      "cell_type": "code",
      "metadata": {
        "id": "uF-mRxqWZfK5"
      },
      "source": [
        "\"\"\"HERE IS YOUR CODE\n",
        "It should be implemented as follows:\n",
        "* Takes a GeneralPopulation class instance;\n",
        "* Uses matplotlib or seaborn packages to plot distribution for general population;\n",
        "* Don't forget a title, grid etc. \n",
        "\"\"\""
      ],
      "execution_count": null,
      "outputs": []
    },
    {
      "cell_type": "markdown",
      "metadata": {
        "id": "EpOBGqKiZ2aH"
      },
      "source": [
        "Function for plotting Boxplots for sample mean:"
      ]
    },
    {
      "cell_type": "code",
      "metadata": {
        "id": "-eSmYeyzZ5YH"
      },
      "source": [
        "\"\"\"HERE IS YOUR CODE\n",
        "It should be implemented as follows:\n",
        "* Takes a GeneralPopulation class instance;\n",
        "* Runs method `run_experiments` for each sampling method and gets vector of mean values;\n",
        "* Uses matplotlib or seaborn packages to plot boxplots of mean values for each subsampling techniques;\n",
        "* Axis Y == Mean values; Axis X == subsampling methods;\n",
        "* Don't forget a title, grid etc. \n",
        "\"\"\""
      ],
      "execution_count": null,
      "outputs": []
    },
    {
      "cell_type": "markdown",
      "metadata": {
        "id": "q_GuUm45X7SI"
      },
      "source": [
        "**Parameters for each General Population**  \n",
        "You can use these or specify your own parameters for strata:"
      ]
    },
    {
      "cell_type": "code",
      "metadata": {
        "id": "v9rcOe_sFCSk"
      },
      "source": [
        "SIZES = (150, 150, 150)\n",
        "N_SUBSAMPLE = 150\n",
        "EQUAL_MEAN_EQUAL_STDS_ARGS = {'means': [0, 0, 0], 'stds': [3, 3, 3], 'sizes': SIZES}\n",
        "DIFFERENT_MEAN_EQUAL_STDS_ARGS = {'means': [15, -1, -17], 'stds': [3, 3, 3], 'sizes':SIZES}\n",
        "EQUAL_MEAN_DIFFERENT_STDS_ARGS = {'means': [0, 0, 0], 'stds': [3, 7, 11], 'sizes':SIZES}"
      ],
      "execution_count": null,
      "outputs": []
    },
    {
      "cell_type": "markdown",
      "metadata": {
        "id": "orRbY36dYVd-"
      },
      "source": [
        "**Initialization**"
      ]
    },
    {
      "cell_type": "code",
      "metadata": {
        "id": "d9T_MD9-VExD"
      },
      "source": [
        "# Create GeneralPopulation class instances here"
      ],
      "execution_count": null,
      "outputs": []
    },
    {
      "cell_type": "markdown",
      "metadata": {
        "id": "nfn7YyyZYelr"
      },
      "source": [
        "**General population with EQUAL means and EQUAL STDs of strata**  \n",
        "Distribution histogram:"
      ]
    },
    {
      "cell_type": "code",
      "metadata": {
        "id": "LlUnz57JVmpV"
      },
      "source": [
        "# Run plotting for density"
      ],
      "execution_count": null,
      "outputs": []
    },
    {
      "cell_type": "markdown",
      "metadata": {
        "id": "ujqYqKU4Y7Ag"
      },
      "source": [
        "Boxplots for sample mean:"
      ]
    },
    {
      "cell_type": "code",
      "metadata": {
        "id": "A9ciZoCraRzZ"
      },
      "source": [
        "# Run plotting for boxplots"
      ],
      "execution_count": null,
      "outputs": []
    },
    {
      "cell_type": "markdown",
      "metadata": {
        "id": "UQ-ZhUg6ZRb5"
      },
      "source": [
        "**General population with DIFFERENT means and EQUAL STDs of strata**  \n",
        "Distribution histogram:"
      ]
    },
    {
      "cell_type": "code",
      "metadata": {
        "id": "xguj1fNlV0zp"
      },
      "source": [
        "# Run plotting for density"
      ],
      "execution_count": null,
      "outputs": []
    },
    {
      "cell_type": "markdown",
      "metadata": {
        "id": "ITjK3WLMZZ5y"
      },
      "source": [
        "Boxplots for sample mean:"
      ]
    },
    {
      "cell_type": "code",
      "metadata": {
        "id": "MvhmembBXBw3"
      },
      "source": [
        "# Run plotting for boxplots"
      ],
      "execution_count": null,
      "outputs": []
    },
    {
      "cell_type": "markdown",
      "metadata": {
        "id": "jXNpszv5ZUvh"
      },
      "source": [
        "**General population with DIFFERENT means and DIFFERENT STDs of strata**  \n",
        "Distribution histogram:"
      ]
    },
    {
      "cell_type": "code",
      "metadata": {
        "id": "OrHPWkohV2PT"
      },
      "source": [
        "# Run plotting for density"
      ],
      "execution_count": null,
      "outputs": []
    },
    {
      "cell_type": "markdown",
      "metadata": {
        "id": "M2QE71EIgqPK"
      },
      "source": [
        "Boxplots for sample mean:"
      ]
    },
    {
      "cell_type": "code",
      "metadata": {
        "id": "C9dBdryJbwJi"
      },
      "source": [
        "# Run plotting for boxplots"
      ],
      "execution_count": null,
      "outputs": []
    },
    {
      "cell_type": "markdown",
      "metadata": {
        "id": "m9bbaGwFeiXA"
      },
      "source": [
        "With the experiments conducted and statistics estimated we can generate these <b>conclusions</b>: \n",
        "\n",
        "`HERE ARE YOUR CONCLUSIONS`"
      ]
    },
    {
      "cell_type": "markdown",
      "metadata": {
        "id": "ktLUlkWLeiXA"
      },
      "source": [
        "# Task 2\n",
        "\n",
        "\n",
        "\n",
        "### Part 1\n",
        "Using [this criteria](https://support.minitab.com/en-us/minitab-express/1/help-and-how-to/modeling-statistics/regression/how-to/correlation/interpret-the-results/#:~:text=For%20the%20Pearson%20correlation%2C%20an,linear%20relationship%20between%20the%20variables.&text=If%20both%20variables%20tend%20to,represents%20the%20correlation%20slopes%20upward.), check whether there is a correlation between a brain size and intelligence for a dataset consisted both of men and women objects. Also check it for men and women subsamples separately.\n",
        "\n",
        "\n",
        "### Part 2\n",
        "Using $Chi^2$ criteria check whether there is a statistical difference between men's and women's choice of auto.  (Features `Sex` и `PreferCar`)\n",
        "\n",
        "\n",
        "You can download dataset using the following:"
      ]
    },
    {
      "cell_type": "code",
      "metadata": {
        "id": "HVj08Hj-ye6K"
      },
      "source": [
        "from bds_courseware import read_drive_dataset\n",
        "from bds_courseware import HOMEWORK_DATASETS\n",
        "brain_data = read_drive_dataset(*HOMEWORK_DATASETS['brain'])  # PART 1\n",
        "cars_prefes_data = read_drive_dataset(*HOMEWORK_DATASETS['car_perfs'])  # PART 2"
      ],
      "execution_count": null,
      "outputs": []
    },
    {
      "cell_type": "code",
      "metadata": {
        "id": "G16BGO8nl-Qn"
      },
      "source": [
        "### YOUR SOLUTION HERE"
      ],
      "execution_count": null,
      "outputs": []
    },
    {
      "cell_type": "markdown",
      "metadata": {
        "id": "s3VEId_FeiYO"
      },
      "source": [
        "# Task 3\n",
        "\n",
        "You can find and download a dataset there:\n",
        "https://www.kaggle.com/russellyates88/suicide-rates-overview-1985-to-2016\n",
        "\n",
        "\n",
        "1) For any country (you are free to choose any of the presented) \n",
        " *  Visualize a feature **suicides_no** considering other features: **sex**, **age** (or **generation**) and year;\n",
        " *  Check whether there is statistical difference for suicide number between these groups: men / women. If it is found, can we claim that people of certain sex are more prone to suicides or do we need additional information?\n",
        "\n",
        "2) For 2016: divide countries into 3-4 groups according to the values of the **gdp_per_capita** feature (use statistical characteristics to determine how to divide the data into groups), check if the suicides / 100k pop indicator differs in these groups. Do not forget that for each country you have several values and they need to be aggregated or checked for each group separately."
      ]
    },
    {
      "cell_type": "code",
      "metadata": {
        "id": "MKDY23yDl-v4"
      },
      "source": [
        "### YOUR SOLUTION HERE"
      ],
      "execution_count": null,
      "outputs": []
    }
  ]
}